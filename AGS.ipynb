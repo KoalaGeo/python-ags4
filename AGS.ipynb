{
 "cells": [
  {
   "cell_type": "markdown",
   "metadata": {},
   "source": [
    "# AGS 4\n",
    "\n",
    "Jupyter Notebook example working with .ags data"
   ]
  },
  {
   "cell_type": "markdown",
   "metadata": {},
   "source": [
    "## Install AGS4 pip package"
   ]
  },
  {
   "cell_type": "code",
   "execution_count": 2,
   "metadata": {
    "scrolled": true
   },
   "outputs": [
    {
     "name": "stdout",
     "output_type": "stream",
     "text": [
      "Collecting python-ags4\n",
      "  Downloading python_AGS4-0.3.5-py3-none-any.whl (155 kB)\n",
      "\u001b[K     |████████████████████████████████| 155 kB 2.8 MB/s eta 0:00:01\n",
      "\u001b[?25hCollecting geopandas\n",
      "  Downloading geopandas-0.9.0-py2.py3-none-any.whl (994 kB)\n",
      "\u001b[K     |████████████████████████████████| 994 kB 4.4 MB/s eta 0:00:01\n",
      "\u001b[?25hCollecting descartes\n",
      "  Downloading descartes-1.1.0-py3-none-any.whl (5.8 kB)\n",
      "Collecting rich<10.0,>=9.0\n",
      "  Downloading rich-9.12.4-py3-none-any.whl (197 kB)\n",
      "\u001b[K     |████████████████████████████████| 197 kB 3.7 MB/s eta 0:00:01\n",
      "\u001b[?25hRequirement already satisfied: defusedxml<0.7.0,>=0.6.0 in /home/edd/anaconda3/lib/python3.8/site-packages (from python-ags4) (0.6.0)\n",
      "Requirement already satisfied: openpyxl<4.0,>=3.0 in /home/edd/anaconda3/lib/python3.8/site-packages (from python-ags4) (3.0.5)\n",
      "Requirement already satisfied: pandas<2.0,>=1.0 in /home/edd/anaconda3/lib/python3.8/site-packages (from python-ags4) (1.1.3)\n",
      "Requirement already satisfied: click<8.0,>=7.0 in /home/edd/anaconda3/lib/python3.8/site-packages (from python-ags4) (7.1.2)\n",
      "Collecting shapely>=1.6\n",
      "  Downloading Shapely-1.7.1-cp38-cp38-manylinux1_x86_64.whl (1.0 MB)\n",
      "\u001b[K     |████████████████████████████████| 1.0 MB 1.5 MB/s eta 0:00:01\n",
      "\u001b[?25hCollecting fiona>=1.8\n",
      "  Downloading Fiona-1.8.18-cp38-cp38-manylinux1_x86_64.whl (14.7 MB)\n",
      "\u001b[K     |████████████████████████████████| 14.7 MB 53 kB/s  eta 0:00:01    |█████▊                          | 2.6 MB 4.4 MB/s eta 0:00:03     |████████▋                       | 4.0 MB 4.4 MB/s eta 0:00:03     |████████████████▊               | 7.7 MB 1.8 MB/s eta 0:00:04     |██████████████████████          | 10.2 MB 4.5 MB/s eta 0:00:02\n",
      "\u001b[?25hCollecting pyproj>=2.2.0\n",
      "  Downloading pyproj-3.0.0.post1-cp38-cp38-manylinux2010_x86_64.whl (6.5 MB)\n",
      "\u001b[K     |████████████████████████████████| 6.5 MB 3.1 MB/s eta 0:00:01     |█████████▉                      | 2.0 MB 2.7 MB/s eta 0:00:02     |████████████████████████        | 4.9 MB 3.1 MB/s eta 0:00:01\n",
      "\u001b[?25hRequirement already satisfied: matplotlib in /home/edd/anaconda3/lib/python3.8/site-packages (from descartes) (3.3.2)\n",
      "Requirement already satisfied: pygments<3.0.0,>=2.6.0 in /home/edd/anaconda3/lib/python3.8/site-packages (from rich<10.0,>=9.0->python-ags4) (2.7.2)\n",
      "Requirement already satisfied: colorama<0.5.0,>=0.4.0 in /home/edd/anaconda3/lib/python3.8/site-packages (from rich<10.0,>=9.0->python-ags4) (0.4.4)\n",
      "Requirement already satisfied: typing-extensions<4.0.0,>=3.7.4 in /home/edd/anaconda3/lib/python3.8/site-packages (from rich<10.0,>=9.0->python-ags4) (3.7.4.3)\n",
      "Collecting commonmark<0.10.0,>=0.9.0\n",
      "  Downloading commonmark-0.9.1-py2.py3-none-any.whl (51 kB)\n",
      "\u001b[K     |████████████████████████████████| 51 kB 5.1 MB/s  eta 0:00:01\n",
      "\u001b[?25hRequirement already satisfied: et-xmlfile in /home/edd/anaconda3/lib/python3.8/site-packages (from openpyxl<4.0,>=3.0->python-ags4) (1.0.1)\n",
      "Requirement already satisfied: jdcal in /home/edd/anaconda3/lib/python3.8/site-packages (from openpyxl<4.0,>=3.0->python-ags4) (1.4.1)\n",
      "Requirement already satisfied: python-dateutil>=2.7.3 in /home/edd/anaconda3/lib/python3.8/site-packages (from pandas<2.0,>=1.0->python-ags4) (2.8.1)\n",
      "Requirement already satisfied: numpy>=1.15.4 in /home/edd/anaconda3/lib/python3.8/site-packages (from pandas<2.0,>=1.0->python-ags4) (1.19.2)\n",
      "Requirement already satisfied: pytz>=2017.2 in /home/edd/anaconda3/lib/python3.8/site-packages (from pandas<2.0,>=1.0->python-ags4) (2020.1)\n",
      "Requirement already satisfied: certifi in /home/edd/anaconda3/lib/python3.8/site-packages (from fiona>=1.8->geopandas) (2020.6.20)\n",
      "Requirement already satisfied: attrs>=17 in /home/edd/anaconda3/lib/python3.8/site-packages (from fiona>=1.8->geopandas) (20.3.0)\n",
      "Collecting munch\n",
      "  Downloading munch-2.5.0-py2.py3-none-any.whl (10 kB)\n",
      "Collecting click-plugins>=1.0\n",
      "  Downloading click_plugins-1.1.1-py2.py3-none-any.whl (7.5 kB)\n",
      "Collecting cligj>=0.5\n",
      "  Downloading cligj-0.7.1-py3-none-any.whl (7.1 kB)\n",
      "Requirement already satisfied: six>=1.7 in /home/edd/anaconda3/lib/python3.8/site-packages (from fiona>=1.8->geopandas) (1.15.0)\n",
      "Requirement already satisfied: kiwisolver>=1.0.1 in /home/edd/anaconda3/lib/python3.8/site-packages (from matplotlib->descartes) (1.3.0)\n",
      "Requirement already satisfied: pyparsing!=2.0.4,!=2.1.2,!=2.1.6,>=2.0.3 in /home/edd/anaconda3/lib/python3.8/site-packages (from matplotlib->descartes) (2.4.7)\n",
      "Requirement already satisfied: cycler>=0.10 in /home/edd/anaconda3/lib/python3.8/site-packages (from matplotlib->descartes) (0.10.0)\n",
      "Requirement already satisfied: pillow>=6.2.0 in /home/edd/anaconda3/lib/python3.8/site-packages (from matplotlib->descartes) (8.0.1)\n",
      "Installing collected packages: commonmark, rich, python-ags4, shapely, munch, click-plugins, cligj, fiona, pyproj, geopandas, descartes\n",
      "Successfully installed click-plugins-1.1.1 cligj-0.7.1 commonmark-0.9.1 descartes-1.1.0 fiona-1.8.18 geopandas-0.9.0 munch-2.5.0 pyproj-3.0.0.post1 python-ags4-0.3.5 rich-9.12.4 shapely-1.7.1\n"
     ]
    }
   ],
   "source": [
    "# Install AGS pip package\n",
    "import sys\n",
    "!{sys.executable} -m pip install python-ags4 geopandas descartes"
   ]
  },
  {
   "cell_type": "markdown",
   "metadata": {},
   "source": [
    "## Import Module"
   ]
  },
  {
   "cell_type": "code",
   "execution_count": 3,
   "metadata": {},
   "outputs": [],
   "source": [
    "from python_ags4 import AGS4\n",
    "import toml\n",
    "import pandas as pd\n",
    "import geopandas\n",
    "import matplotlib.pyplot as plt"
   ]
  },
  {
   "cell_type": "markdown",
   "metadata": {},
   "source": [
    "## Import data from an AGS4 file:\n",
    "\n",
    "\n",
    "- tables is a dictionary of Pandas DataFrames. Each DataFrame contains the data from a GROUP in the AGS4 file.\n",
    "- headings is a dictionary of lists. Each list has the header names of the corresponding GROUP"
   ]
  },
  {
   "cell_type": "code",
   "execution_count": 4,
   "metadata": {},
   "outputs": [],
   "source": [
    "tables, headings = AGS4.AGS4_to_dataframe('./tests/test_data.ags')"
   ]
  },
  {
   "cell_type": "markdown",
   "metadata": {},
   "source": [
    "All data are imported as text so they cannot be analyzed or plotted immediately. You can use the `AGS4.convert_to_numeric()` function to convert all the numerical data in a DataFrame from text to numeric.\n",
    "\n",
    "The `AGS4.convert_to_numeric()` function automatically converts all columns in the input DataFrame with the a numeric TYPE to a float. (Note: The UNIT and TYPE rows are removed during this operation as they are non-numeric.)"
   ]
  },
  {
   "cell_type": "code",
   "execution_count": 5,
   "metadata": {},
   "outputs": [],
   "source": [
    "LOCA = AGS4.convert_to_numeric(tables['LOCA'])"
   ]
  },
  {
   "cell_type": "code",
   "execution_count": 6,
   "metadata": {
    "scrolled": true
   },
   "outputs": [
    {
     "data": {
      "text/html": [
       "<div>\n",
       "<style scoped>\n",
       "    .dataframe tbody tr th:only-of-type {\n",
       "        vertical-align: middle;\n",
       "    }\n",
       "\n",
       "    .dataframe tbody tr th {\n",
       "        vertical-align: top;\n",
       "    }\n",
       "\n",
       "    .dataframe thead th {\n",
       "        text-align: right;\n",
       "    }\n",
       "</style>\n",
       "<table border=\"1\" class=\"dataframe\">\n",
       "  <thead>\n",
       "    <tr style=\"text-align: right;\">\n",
       "      <th></th>\n",
       "      <th>HEADING</th>\n",
       "      <th>LOCA_ID</th>\n",
       "      <th>LOCA_TYPE</th>\n",
       "      <th>LOCA_STAT</th>\n",
       "      <th>LOCA_NATE</th>\n",
       "      <th>LOCA_NATN</th>\n",
       "      <th>LOCA_GREF</th>\n",
       "      <th>LOCA_REM</th>\n",
       "      <th>LOCA_FDEP</th>\n",
       "      <th>LOCA_STAR</th>\n",
       "      <th>LOCA_PURP</th>\n",
       "      <th>LOCA_TERM</th>\n",
       "      <th>LOCA_ENDD</th>\n",
       "    </tr>\n",
       "  </thead>\n",
       "  <tbody>\n",
       "    <tr>\n",
       "      <th>0</th>\n",
       "      <td>DATA</td>\n",
       "      <td>Location_1</td>\n",
       "      <td>Boring</td>\n",
       "      <td>Draft</td>\n",
       "      <td>100000.01</td>\n",
       "      <td>5000000.2</td>\n",
       "      <td></td>\n",
       "      <td></td>\n",
       "      <td>50.11</td>\n",
       "      <td>2019-01-01</td>\n",
       "      <td>Geotechnical Investigation</td>\n",
       "      <td></td>\n",
       "      <td>2019-01-01</td>\n",
       "    </tr>\n",
       "    <tr>\n",
       "      <th>1</th>\n",
       "      <td>DATA</td>\n",
       "      <td>Location_2</td>\n",
       "      <td>Boring</td>\n",
       "      <td>Draft</td>\n",
       "      <td>101000.01</td>\n",
       "      <td>5000000.2</td>\n",
       "      <td></td>\n",
       "      <td></td>\n",
       "      <td>50.22</td>\n",
       "      <td>2019-01-07</td>\n",
       "      <td>Geotechnical Investigation</td>\n",
       "      <td></td>\n",
       "      <td>2019-01-07</td>\n",
       "    </tr>\n",
       "    <tr>\n",
       "      <th>2</th>\n",
       "      <td>DATA</td>\n",
       "      <td>Location_3</td>\n",
       "      <td>Boring</td>\n",
       "      <td>Draft</td>\n",
       "      <td>102000.01</td>\n",
       "      <td>5000000.2</td>\n",
       "      <td></td>\n",
       "      <td></td>\n",
       "      <td>50.33</td>\n",
       "      <td>2019-01-14</td>\n",
       "      <td>Geotechnical Investigation</td>\n",
       "      <td></td>\n",
       "      <td>2019-01-14</td>\n",
       "    </tr>\n",
       "    <tr>\n",
       "      <th>3</th>\n",
       "      <td>DATA</td>\n",
       "      <td>Location_4</td>\n",
       "      <td>Boring</td>\n",
       "      <td>Draft</td>\n",
       "      <td>103000.01</td>\n",
       "      <td>5000000.2</td>\n",
       "      <td></td>\n",
       "      <td></td>\n",
       "      <td>50.44</td>\n",
       "      <td>2019-01-21</td>\n",
       "      <td>Geotechnical Investigation</td>\n",
       "      <td></td>\n",
       "      <td>2019-01-21</td>\n",
       "    </tr>\n",
       "  </tbody>\n",
       "</table>\n",
       "</div>"
      ],
      "text/plain": [
       "  HEADING     LOCA_ID LOCA_TYPE LOCA_STAT  LOCA_NATE  LOCA_NATN LOCA_GREF  \\\n",
       "0    DATA  Location_1    Boring     Draft  100000.01  5000000.2             \n",
       "1    DATA  Location_2    Boring     Draft  101000.01  5000000.2             \n",
       "2    DATA  Location_3    Boring     Draft  102000.01  5000000.2             \n",
       "3    DATA  Location_4    Boring     Draft  103000.01  5000000.2             \n",
       "\n",
       "  LOCA_REM  LOCA_FDEP   LOCA_STAR                   LOCA_PURP LOCA_TERM  \\\n",
       "0               50.11  2019-01-01  Geotechnical Investigation             \n",
       "1               50.22  2019-01-07  Geotechnical Investigation             \n",
       "2               50.33  2019-01-14  Geotechnical Investigation             \n",
       "3               50.44  2019-01-21  Geotechnical Investigation             \n",
       "\n",
       "    LOCA_ENDD  \n",
       "0  2019-01-01  \n",
       "1  2019-01-07  \n",
       "2  2019-01-14  \n",
       "3  2019-01-21  "
      ]
     },
     "execution_count": 6,
     "metadata": {},
     "output_type": "execute_result"
    }
   ],
   "source": [
    "LOCA"
   ]
  },
  {
   "cell_type": "code",
   "execution_count": 17,
   "metadata": {},
   "outputs": [
    {
     "ename": "NameError",
     "evalue": "name 'ags4_cli' is not defined",
     "output_type": "error",
     "traceback": [
      "\u001b[0;31m---------------------------------------------------------------------------\u001b[0m",
      "\u001b[0;31mNameError\u001b[0m                                 Traceback (most recent call last)",
      "\u001b[0;32m<ipython-input-17-9d2863215a76>\u001b[0m in \u001b[0;36m<module>\u001b[0;34m\u001b[0m\n\u001b[0;32m----> 1\u001b[0;31m \u001b[0mags4_cli\u001b[0m \u001b[0;34m-\u001b[0m\u001b[0;34m-\u001b[0m\u001b[0mhelp\u001b[0m\u001b[0;34m\u001b[0m\u001b[0;34m\u001b[0m\u001b[0m\n\u001b[0m",
      "\u001b[0;31mNameError\u001b[0m: name 'ags4_cli' is not defined"
     ]
    }
   ],
   "source": [
    "ags4_cli --help"
   ]
  },
  {
   "cell_type": "markdown",
   "metadata": {},
   "source": [
    "## Map Locations\n",
    "\n",
    "Plot locations using Geopandas"
   ]
  },
  {
   "cell_type": "code",
   "execution_count": 9,
   "metadata": {},
   "outputs": [],
   "source": [
    "gdf = geopandas.GeoDataFrame(LOCA, geometry=geopandas.points_from_xy(LOCA.LOCA_NATE, LOCA.LOCA_NATN))\n",
    "gdf = gdf.set_crs(epsg=27700)"
   ]
  },
  {
   "cell_type": "code",
   "execution_count": 12,
   "metadata": {},
   "outputs": [
    {
     "data": {
      "image/png": "[encoded data removed]",
      "text/plain": [
       "<Figure size 432x288 with 1 Axes>"
      ]
     },
     "metadata": {
      "needs_background": "light"
     },
     "output_type": "display_data"
    }
   ],
   "source": [
    "world = geopandas.read_file(geopandas.datasets.get_path('naturalearth_lowres'))\n",
    "\n",
    "# then restrict this to the United Kingdom\n",
    "ax = world[(world.name == \"United Kingdom\")].plot(\n",
    "color='white', edgecolor='black')\n",
    "\n",
    "# We can now plot our ``GeoDataFrame``.\n",
    "gdf.plot(ax=ax, color='red')\n",
    "\n",
    "plt.show()\n"
   ]
  },
  {
   "cell_type": "code",
   "execution_count": null,
   "metadata": {},
   "outputs": [],
   "source": []
  },
  {
   "cell_type": "code",
   "execution_count": null,
   "metadata": {},
   "outputs": [],
   "source": []
  }
 ],
 "metadata": {
  "kernelspec": {
   "display_name": "Python 3",
   "language": "python",
   "name": "python3"
  },
  "language_info": {
   "codemirror_mode": {
    "name": "ipython",
    "version": 3
   },
   "file_extension": ".py",
   "mimetype": "text/x-python",
   "name": "python",
   "nbconvert_exporter": "python",
   "pygments_lexer": "ipython3",
   "version": "3.8.5"
  }
 },
 "nbformat": 4,
 "nbformat_minor": 4
}
